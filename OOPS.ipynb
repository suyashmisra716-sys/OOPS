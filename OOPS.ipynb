{
  "nbformat": 4,
  "nbformat_minor": 0,
  "metadata": {
    "colab": {
      "provenance": []
    },
    "kernelspec": {
      "name": "python3",
      "display_name": "Python 3"
    },
    "language_info": {
      "name": "python"
    }
  },
  "cells": [
    {
      "cell_type": "markdown",
      "source": [
        "**OOPS**"
      ],
      "metadata": {
        "id": "PB7XSAtzG-sO"
      }
    },
    {
      "cell_type": "markdown",
      "source": [
        "Q1.What is Object-Oriented Programming (OOP)?\n",
        "\n",
        "- Object-Oriented Programming is a programming paradigm (style of programming) that organizes software design around objects rather than functions or logic.\n",
        "\n",
        "An object is an instance of a class, and it bundles together data (attributes) and behaviors (methods)."
      ],
      "metadata": {
        "id": "T01YXiqMBkUl"
      }
    },
    {
      "cell_type": "markdown",
      "source": [
        "Q2.What is a class in OOP?\n",
        "\n",
        "-  A class in Object-Oriented Programming (OOP) is a blueprint or template for creating objects.\n",
        "\n",
        "It defines two main things:\n",
        "\n",
        "Attributes (data/properties) → variables that hold information about the object.\n",
        "\n",
        "Methods (behaviors/functions) → functions that define what the object can do."
      ],
      "metadata": {
        "id": "5veVZt15COdt"
      }
    },
    {
      "cell_type": "markdown",
      "source": [
        "Q3.What is an object in OOP?\n",
        "\n",
        "-  An object is an instance of a class.\n",
        "It represents a real-world entity and contains:\n",
        "\n",
        "Attributes (data/state) → variables that describe the object.\n",
        "\n",
        "Methods (behavior/actions) → functions that define what the object can do."
      ],
      "metadata": {
        "id": "1cIRHaqoCy9j"
      }
    },
    {
      "cell_type": "markdown",
      "source": [
        "Q4.What is the difference between abstraction and encapsulation?\n",
        "\n",
        "-  1. Abstraction\n",
        "\n",
        "Definition:\n",
        "Abstraction is the process of hiding implementation details and showing only the essential features of an object.\n",
        "\n",
        "Purpose: Focuses on what an object does, not how it does it.\n",
        "\n",
        "Achieved by:\n",
        "\n",
        "Abstract classes\n",
        "\n",
        "Interfaces (in some languages)\n",
        "\n",
        "In Python: using the abc module (Abstract Base Classes).\n",
        "\n",
        "2. Encapsulation\n",
        "\n",
        "Definition:\n",
        "Encapsulation is the process of wrapping data (attributes) and methods (functions) into a single unit (a class) and restricting access to some components.\n",
        "\n",
        "Purpose: Protects the internal state of an object and controls how data is accessed or modified.\n",
        "\n",
        "Achieved by:\n",
        "\n",
        "Access modifiers (public, private, protected) in many languages.\n",
        "\n",
        "In Python: convention of using _var (protected) or __var (private)."
      ],
      "metadata": {
        "id": "XyiC95ywDdpE"
      }
    },
    {
      "cell_type": "markdown",
      "source": [
        "Q5.What are dunder methods in Python?\n",
        "\n",
        "-  Dunder methods, also known as magic methods or special methods, are predefined methods in Python that have double underscores at the beginning and end of their names (e.g., __init__, __add__, __len__)."
      ],
      "metadata": {
        "id": "NffQqvdWEoA2"
      }
    },
    {
      "cell_type": "markdown",
      "source": [
        "Q6.Explain the concept of inheritance in OOP?\n",
        "\n",
        "-  In Object-Oriented Programming (OOP), inheritance is a mechanism that allows a new class (derived class or child class) to acquire the properties (data members) and behaviors (methods) of an existing class (base class or parent class)."
      ],
      "metadata": {
        "id": "r-kJzE79FyoC"
      }
    },
    {
      "cell_type": "markdown",
      "source": [
        "Q7.What is polymorphism in OOP?\n",
        "\n",
        "-  Polymorphism in OOP is the concept of \"many forms,\" allowing a single interface to be used for entities of different types or a single action to be performed in different ways."
      ],
      "metadata": {
        "id": "R8jAcKrlGQvJ"
      }
    },
    {
      "cell_type": "markdown",
      "source": [
        "Q8.How is encapsulation achieved in Python?\n",
        "\n",
        "-  Encapsulation in Python is one of the fundamental principles of Object-Oriented Programming (OOP). It refers to restricting access to certain parts of an object and bundling the data (attributes) and methods (functions) that operate on the data into a single unit — the class."
      ],
      "metadata": {
        "id": "tkquwCPIG0vN"
      }
    },
    {
      "cell_type": "markdown",
      "source": [
        "Q9.What is a constructor in Python?\n",
        "\n",
        "-  In Python, a constructor is a special method in a class that is automatically called when a new object of that class is created.\n",
        "\n",
        "It is defined using the __init__() method, and its main purpose is to initialize (set up) the object’s attributes."
      ],
      "metadata": {
        "id": "N2DNenlmHt3H"
      }
    },
    {
      "cell_type": "markdown",
      "source": [
        "Q10.What are class and static methods in Python?\n",
        "\n",
        "-  A class method is bound to the class and receives the class itself as its first argument, conventionally named cls. It is defined using the @classmethod decorator.\n",
        "\n",
        "A static method is a function defined within a class but does not receive the class (cls) or instance (self) as its first argument. It is defined using the @staticmethod decorator."
      ],
      "metadata": {
        "id": "9E-OuQe0IImH"
      }
    },
    {
      "cell_type": "markdown",
      "source": [
        "Q11.What is method overloading in Python?\n",
        "\n",
        "-  Method overloading in Python refers to defining multiple methods with the same name but with different numbers or types of parameters."
      ],
      "metadata": {
        "id": "7t0qrkl7I_Xd"
      }
    },
    {
      "cell_type": "markdown",
      "source": [
        "Q12.What is method overriding in OOP?\n",
        "\n",
        "-  Method overriding in OOP is when a subclass provides its own specific implementation of a method that already exists in its parent class, using the exact same method name, return type, and parameters."
      ],
      "metadata": {
        "id": "15CIWS7RvC7K"
      }
    },
    {
      "cell_type": "markdown",
      "source": [
        "Q13.What is a property decorator in Python?\n",
        "\n",
        "-  In Python, the @property decorator is used to define getter methods for class attributes, making them accessible like regular attributes instead of calling them like methods."
      ],
      "metadata": {
        "id": "5soWivCivncU"
      }
    },
    {
      "cell_type": "markdown",
      "source": [
        "Q14.Why is polymorphism important in OOP?\n",
        "\n",
        "-  Polymorphism is important in OOP because it enables code reusability, flexibility, and extensibility by allowing objects of different types to be treated as objects of a common supertype, respond to the same method calls in their own specific ways, and for new subclasses to be added without altering existing code."
      ],
      "metadata": {
        "id": "ks-a6kR-wCCs"
      }
    },
    {
      "cell_type": "markdown",
      "source": [
        "Q15.What is an abstract class in Python?\n",
        "\n",
        "-  An abstract class in Python is a class that cannot be instantiated directly and is designed to serve as a blueprint or template for other classes. It defines a common interface and potentially some shared behavior that its subclasses are expected to implement."
      ],
      "metadata": {
        "id": "xxOISY5_wTdt"
      }
    },
    {
      "cell_type": "markdown",
      "source": [
        "Q16.What are the advantages of OOP?\n",
        "\n",
        "-  The primary advantages of Object-Oriented Programming (OOP) are code reusability through inheritance, modularity for easier maintenance and collaboration, flexibility with polymorphism, enhanced security via encapsulation and abstraction, and scalability by allowing systems to be easily upgraded and expanded."
      ],
      "metadata": {
        "id": "0vUZiM2nw1ay"
      }
    },
    {
      "cell_type": "markdown",
      "source": [
        "Q17.What is the difference between a class variable and an instance variable?\n",
        "\n",
        "-  A class variable belongs to the class itself, not to any specific instance of the class. There is only one copy of a class variable, which is shared by all instances of that class.Class variables are suitable for storing data that is common to all instances of a class, such as constants, shared configurations, or counters for the number of instances created.\n",
        "\n",
        "An instance variable belongs to a specific instance (object) of a class. Each object has its own independent copy of the instance variables. Instance variables are used to store unique data or characteristics specific to each individual object, such as the name, age, or ID of a person object."
      ],
      "metadata": {
        "id": "xHhV7CgoxPwa"
      }
    },
    {
      "cell_type": "markdown",
      "source": [
        "Q18.What is multiple inheritance in Python?\n",
        "\n",
        "-  Multiple inheritance in Python is a feature where a class can inherit attributes and methods from more than one parent class. This allows a derived class to combine functionalities from multiple sources, effectively creating a new class that possesses the characteristics of all its parent classes."
      ],
      "metadata": {
        "id": "8GHa340xyZ_-"
      }
    },
    {
      "cell_type": "markdown",
      "source": [
        "Q19.Explain the purpose of ‘’__str__’ and ‘__repr__’ ‘ methods in Python.\n",
        "\n",
        "-  __str__\n",
        "\n",
        "\n",
        "Purpose: To provide a human-readable, informal, and user-friendly string representation of an object.\n",
        "\n",
        "\n",
        "Intended Audience: End-users of the program.\n",
        "\n",
        "__repr__\n",
        "\n",
        "\n",
        "Purpose: To provide an unambiguous, formal, and information-rich string representation of an object, primarily for debugging and development.\n",
        "\n",
        "\n",
        "Intended Audience: Developers."
      ],
      "metadata": {
        "id": "0ekej0hB0GTb"
      }
    },
    {
      "cell_type": "markdown",
      "source": [
        "Q20.What is the significance of the ‘super()’ function in Python?\n",
        "\n",
        "-  The super() function in Python holds significant importance within the context of object-oriented programming, particularly concerning inheritance. Its primary role is to provide a mechanism for calling methods and accessing attributes of a parent or sibling class from a child or subclass."
      ],
      "metadata": {
        "id": "KNfuLAjA1tmT"
      }
    },
    {
      "cell_type": "markdown",
      "source": [
        "Q21.What is the significance of the __del__ method in Python?\n",
        "\n",
        "-  The __del__ method in Python, often referred to as a destructor, holds significance primarily in resource management and cleanup operations when an object is about to be destroyed by the garbage collector."
      ],
      "metadata": {
        "id": "GXBiwljq2boi"
      }
    },
    {
      "cell_type": "markdown",
      "source": [
        "Q22.What is the difference between @staticmethod and @classmethod in Python?\n",
        "\n",
        "-  @classmethod:\n",
        "\n",
        "\n",
        "Takes the class itself (cls) as its first argument.\n",
        "\n",
        "\n",
        "Can access and modify class-level attributes and call other class methods.\n",
        "\n",
        "Is commonly used for factory methods (creating instances in a specific way) or for methods that operate on class-level data.\n",
        "\n",
        "@staticmethod:\n",
        "\n",
        "Does not take self (instance) or cls (class) as its first argument.\n",
        "\n",
        "\n",
        "Cannot access or modify class-level attributes or instance-level attributes directly.\n",
        "\n",
        "\n",
        "Is essentially a regular function that is logically grouped within a class, but it does not depend on the state of the class or any instance.\n",
        "\n",
        "\n",
        "Is typically used for utility functions that are related to the class but do not require any class or instance context.\n",
        "\n"
      ],
      "metadata": {
        "id": "6iL0gmwy20gj"
      }
    },
    {
      "cell_type": "markdown",
      "source": [
        "Q23.How does polymorphism work in Python with inheritance?\n",
        "\n",
        "-  Polymorphism in Python, when combined with inheritance, primarily manifests through method overriding. This allows child classes to provide their own specific implementations for methods that are already defined in their parent (or base) classes."
      ],
      "metadata": {
        "id": "EIJDMUt73_gS"
      }
    },
    {
      "cell_type": "markdown",
      "source": [
        "Q24.What is method chaining in Python OOP?\n",
        "\n",
        "-  Method chaining in Python OOP is a programming style that allows you to call multiple methods sequentially on the same object in a single expression. This is achieved by designing methods within a class to return the object itself (typically self) after performing their operation."
      ],
      "metadata": {
        "id": "lySBAKve7qjg"
      }
    },
    {
      "cell_type": "markdown",
      "source": [
        "Q25.What is the purpose of the __call__ method in Python?\n",
        "\n",
        "-  The purpose of the __call__ method in Python is to make instances of a class callable, meaning they can be invoked like regular functions.\n",
        "When a class defines a __call__ method, you can create an instance of that class and then call the instance directly using parentheses, just as you would call a function."
      ],
      "metadata": {
        "id": "xQS2-t3j8Bgq"
      }
    },
    {
      "cell_type": "code",
      "source": [
        "#Q1. Create a parent class Animal with a method speak() that prints a generic message. Create a child class Dog that overrides the speak() method to print \"Bark!\".\n",
        "\n",
        "# Parent class\n",
        "class Animal:\n",
        "    def speak(self):\n",
        "        print(\"This animal makes a sound.\")\n",
        "\n",
        "# Child class\n",
        "class Dog(Animal):\n",
        "    def speak(self):\n",
        "        print(\"Bark!\")\n",
        "\n",
        "# Example usage\n",
        "generic_animal = Animal()\n",
        "generic_animal.speak()   # Output: This animal makes a sound.\n",
        "\n",
        "dog = Dog()\n",
        "dog.speak()              # Output: Bark!\n"
      ],
      "metadata": {
        "id": "zXfpqRzW8drw"
      },
      "execution_count": null,
      "outputs": []
    },
    {
      "cell_type": "code",
      "source": [
        "#Q2.Write a program to create an abstract class Shape with a method area(). Derive classes Circle and Rectangle from it and implement the area() method in both.\n",
        "\n",
        "from abc import ABC, abstractmethod\n",
        "import math\n",
        "\n",
        "# Abstract class\n",
        "class Shape(ABC):\n",
        "    @abstractmethod\n",
        "    def area(self):\n",
        "        pass\n",
        "\n",
        "# Circle class\n",
        "class Circle(Shape):\n",
        "    def __init__(self, radius):\n",
        "        self.radius = radius\n",
        "\n",
        "    def area(self):\n",
        "        return math.pi * (self.radius ** 2)\n",
        "\n",
        "# Rectangle class\n",
        "class Rectangle(Shape):\n",
        "    def __init__(self, length, width):\n",
        "        self.length = length\n",
        "        self.width = width\n",
        "\n",
        "    def area(self):\n",
        "        return self.length * self.width\n",
        "\n",
        "# Example usage\n",
        "circle = Circle(5)\n",
        "print(f\"Circle area: {circle.area():.2f}\")  # Output: Circle area: 78.54\n",
        "\n",
        "rectangle = Rectangle(4, 6)\n",
        "print(f\"Rectangle area: {rectangle.area()}\")  # Output: Rectangle area: 24\n"
      ],
      "metadata": {
        "id": "5fhc6_LgoV-t"
      },
      "execution_count": null,
      "outputs": []
    },
    {
      "cell_type": "code",
      "source": [
        "#Q3.Implement a multi-level inheritance scenario where a class Vehicle has an attribute type. Derive a class Car and further derive a class ElectricCar that adds a battery attribute.\n",
        "\n",
        "# Base class\n",
        "class Vehicle:\n",
        "    def __init__(self, vehicle_type):\n",
        "        self.vehicle_type = vehicle_type\n",
        "\n",
        "    def display_info(self):\n",
        "        print(f\"Vehicle Type: {self.vehicle_type}\")\n",
        "\n",
        "# Derived class from Vehicle\n",
        "class Car(Vehicle):\n",
        "    def __init__(self, vehicle_type, brand):\n",
        "        super().__init__(vehicle_type)\n",
        "        self.brand = brand\n",
        "\n",
        "    def display_info(self):\n",
        "        super().display_info()\n",
        "        print(f\"Brand: {self.brand}\")\n",
        "\n",
        "# Derived class from Car\n",
        "class ElectricCar(Car):\n",
        "    def __init__(self, vehicle_type, brand, battery_capacity):\n",
        "        super().__init__(vehicle_type, brand)\n",
        "        self.battery_capacity = battery_capacity\n",
        "\n",
        "    def display_info(self):\n",
        "        super().display_info()\n",
        "        print(f\"Battery Capacity: {self.battery_capacity} kWh\")\n",
        "\n",
        "# Example usage\n",
        "vehicle = Vehicle(\"Generic Vehicle\")\n",
        "vehicle.display_info()\n",
        "print()\n",
        "\n",
        "car = Car(\"Car\", \"Toyota\")\n",
        "car.display_info()\n",
        "print()\n",
        "\n",
        "electric_car = ElectricCar(\"Car\", \"Tesla\", 75)\n",
        "electric_car.display_info()\n"
      ],
      "metadata": {
        "id": "ysgytwBEpXsk"
      },
      "execution_count": null,
      "outputs": []
    },
    {
      "cell_type": "code",
      "source": [
        "#Q4. Demonstrate polymorphism by creating a base class Bird with a method fly(). Create two derived classes Sparrow and Penguin that override the fly() method.\n",
        "\n",
        "# Base class\n",
        "class Bird:\n",
        "    def fly(self):\n",
        "        print(\"This bird can fly in some way.\")\n",
        "\n",
        "# Derived class Sparrow\n",
        "class Sparrow(Bird):\n",
        "    def fly(self):\n",
        "        print(\"Sparrow flies high in the sky.\")\n",
        "\n",
        "# Derived class Penguin\n",
        "class Penguin(Bird):\n",
        "    def fly(self):\n",
        "        print(\"Penguins cannot fly, they swim instead.\")\n",
        "\n",
        "# Function that demonstrates polymorphism\n",
        "def show_flying(bird):\n",
        "    bird.fly()\n",
        "\n",
        "# Example usage\n",
        "sparrow = Sparrow()\n",
        "penguin = Penguin()\n",
        "\n",
        "# Polymorphism in action\n",
        "show_flying(sparrow)   # Output: Sparrow flies high in the sky.\n",
        "show_flying(penguin)   # Output: Penguins cannot fly, they swim instead.\n"
      ],
      "metadata": {
        "id": "go8DTFLE0yY9"
      },
      "execution_count": null,
      "outputs": []
    },
    {
      "cell_type": "code",
      "source": [
        "#Q5.Write a program to demonstrate encapsulation by creating a class BankAccount with private attributes balance and methods to deposit, withdraw, and check balance.\n",
        "\n",
        "class BankAccount:\n",
        "    def __init__(self, initial_balance=0):\n",
        "        self.__balance = initial_balance  # Private attribute\n",
        "\n",
        "    # Method to deposit money\n",
        "    def deposit(self, amount):\n",
        "        if amount > 0:\n",
        "            self.__balance += amount\n",
        "            print(f\"Deposited: {amount}\")\n",
        "        else:\n",
        "            print(\"Deposit amount must be positive.\")\n",
        "\n",
        "    # Method to withdraw money\n",
        "    def withdraw(self, amount):\n",
        "        if 0 < amount <= self.__balance:\n",
        "            self.__balance -= amount\n",
        "            print(f\"Withdrew: {amount}\")\n",
        "        else:\n",
        "            print(\"Insufficient balance or invalid amount.\")\n",
        "\n",
        "    # Method to check balance\n",
        "    def get_balance(self):\n",
        "        return self.__balance\n",
        "\n",
        "\n",
        "# Example usage\n",
        "account = BankAccount(100)   # Opening account with 100\n",
        "print(\"Initial Balance:\", account.get_balance())\n",
        "\n",
        "account.deposit(50)          # Deposit 50\n",
        "print(\"Balance after deposit:\", account.get_balance())\n",
        "\n",
        "account.withdraw(30)         # Withdraw 30\n",
        "print(\"Balance after withdrawal:\", account.get_balance())\n",
        "\n",
        "account.withdraw(200)        # Attempt to withdraw more than balance\n"
      ],
      "metadata": {
        "id": "X0ZlQf4u1K4K"
      },
      "execution_count": null,
      "outputs": []
    },
    {
      "cell_type": "code",
      "source": [
        "#Q6.Demonstrate runtime polymorphism using a method play() in a base class Instrument. Derive classes Guitar and Piano that implement their own version of play().\n",
        "\n",
        "# Base class\n",
        "class Instrument:\n",
        "    def play(self):\n",
        "        print(\"This instrument makes a sound.\")\n",
        "\n",
        "# Derived class Guitar\n",
        "class Guitar(Instrument):\n",
        "    def play(self):\n",
        "        print(\"Strumming the guitar\")\n",
        "\n",
        "# Derived class Piano\n",
        "class Piano(Instrument):\n",
        "    def play(self):\n",
        "        print(\"Playing the piano\")\n",
        "\n",
        "# Function to demonstrate runtime polymorphism\n",
        "def perform(instrument):\n",
        "    instrument.play()\n",
        "\n",
        "# Example usage\n",
        "guitar = Guitar()\n",
        "piano = Piano()\n",
        "\n",
        "# Polymorphism in action\n",
        "perform(guitar)   # Output: Strumming the guitar\n",
        "perform(piano)    # Output: Playing the piano\n"
      ],
      "metadata": {
        "id": "KQ9krW931oZW"
      },
      "execution_count": null,
      "outputs": []
    },
    {
      "cell_type": "code",
      "source": [
        "#Q7.Create a class MathOperations with a class method add_numbers() to add two numbers and a static method subtract_numbers() to subtract two numbers.\n",
        "\n",
        "class MathOperations:\n",
        "    # Class method\n",
        "    @classmethod\n",
        "    def add_numbers(cls, a, b):\n",
        "        return a + b\n",
        "\n",
        "    # Static method\n",
        "    @staticmethod\n",
        "    def subtract_numbers(a, b):\n",
        "        return a - b\n",
        "\n",
        "\n",
        "# Example usage\n",
        "print(\"Addition (Class Method):\", MathOperations.add_numbers(10, 5))   # Output: 15\n",
        "print(\"Subtraction (Static Method):\", MathOperations.subtract_numbers(10, 5))  # Output: 5\n"
      ],
      "metadata": {
        "id": "jB4qBR1n2CAg"
      },
      "execution_count": null,
      "outputs": []
    },
    {
      "cell_type": "code",
      "source": [
        "#Q8.Implement a class Person with a class method to count the total number of persons created.\n",
        "\n",
        "class Person:\n",
        "    # Class attribute to keep count\n",
        "    __count = 0\n",
        "\n",
        "    def __init__(self, name):\n",
        "        self.name = name\n",
        "        Person.__count += 1  # Increment count whenever a new object is created\n",
        "\n",
        "    # Class method to get total count\n",
        "    @classmethod\n",
        "    def get_count(cls):\n",
        "        return cls.__count\n",
        "\n",
        "\n",
        "# Example usage\n",
        "p1 = Person(\"Suyash\")\n",
        "p2 = Person(\"Rahul\")\n",
        "p3 = Person(\"Gaurav\")\n",
        "\n",
        "print(f\"Total persons created: {Person.get_count()}\")  # Output: 3\n"
      ],
      "metadata": {
        "id": "ZvwPn30c2bE8"
      },
      "execution_count": null,
      "outputs": []
    },
    {
      "cell_type": "code",
      "source": [
        "#Q9.Write a class Fraction with attributes numerator and denominator. Override the str method to display the fraction as \"numerator/denominator\".\n",
        "\n",
        "class Fraction:\n",
        "    def __init__(self, numerator, denominator):\n",
        "        if denominator == 0:\n",
        "            raise ValueError(\"Denominator cannot be zero.\")\n",
        "        self.numerator = numerator\n",
        "        self.denominator = denominator\n",
        "\n",
        "    # Override __str__ to display fraction in \"numerator/denominator\" form\n",
        "    def __str__(self):\n",
        "        return f\"{self.numerator}/{self.denominator}\"\n",
        "\n",
        "\n",
        "# Example usage\n",
        "f1 = Fraction(3, 4)\n",
        "f2 = Fraction(5, 8)\n",
        "\n",
        "print(f1)  # Output: 3/4\n",
        "print(f2)  # Output: 5/8\n"
      ],
      "metadata": {
        "id": "FIS9XuUc28jx"
      },
      "execution_count": null,
      "outputs": []
    },
    {
      "cell_type": "code",
      "source": [
        "#Q10.Demonstrate operator overloading by creating a class Vector and overriding the add method to add two vectors.\n",
        "\n",
        "class Vector:\n",
        "    def __init__(self, x, y):\n",
        "        self.x = x\n",
        "        self.y = y\n",
        "\n",
        "    # Overload + operator\n",
        "    def __add__(self, other):\n",
        "        if isinstance(other, Vector):\n",
        "            return Vector(self.x + other.x, self.y + other.y)\n",
        "        return NotImplemented\n",
        "\n",
        "    # For pretty printing\n",
        "    def __str__(self):\n",
        "        return f\"({self.x}, {self.y})\"\n",
        "\n",
        "\n",
        "# Example usage\n",
        "v1 = Vector(2, 3)\n",
        "v2 = Vector(4, 5)\n",
        "\n",
        "v3 = v1 + v2   # Uses __add__ method\n",
        "print(\"Vector 1:\", v1)   # Output: (2, 3)\n",
        "print(\"Vector 2:\", v2)   # Output: (4, 5)\n",
        "print(\"Sum:\", v3)        # Output: (6, 8)\n"
      ],
      "metadata": {
        "id": "f4zhfBks3Mvu"
      },
      "execution_count": null,
      "outputs": []
    },
    {
      "cell_type": "code",
      "source": [
        "#Q11. Create a class Person with attributes name and age. Add a method greet() that prints \"Hello, my name is {name} and I am {age} years old.\"\n",
        "\n",
        "class Person:\n",
        "    def __init__(self, name, age):\n",
        "        self.name = name\n",
        "        self.age = age\n",
        "\n",
        "    # Method to greet\n",
        "    def greet(self):\n",
        "        print(f\"Hello, my name is {self.name} and I am {self.age} years old.\")\n",
        "\n",
        "\n",
        "# Example usage\n",
        "person1 = Person(\"Ajay\", 25)\n",
        "person1.greet()  # Output: Hello, my name is Ajay and I am 25 years old.\n",
        "\n",
        "person2 = Person(\"Suyash\", 30)\n",
        "person2.greet()  # Output: Hello, my name is Suyash and I am 30 years old.\n"
      ],
      "metadata": {
        "id": "_uHLQSMF3gHD"
      },
      "execution_count": null,
      "outputs": []
    },
    {
      "cell_type": "code",
      "source": [
        "#Q12.Implement a class Student with attributes name and grades. Create a method average_grade() to compute the average of the grades.\n",
        "\n",
        "class Student:\n",
        "    def __init__(self, name, grades):\n",
        "        self.name = name\n",
        "        self.grades = grades  # List of numeric grades\n",
        "\n",
        "    # Method to calculate average grade\n",
        "    def average_grade(self):\n",
        "        if not self.grades:\n",
        "            return 0\n",
        "        return sum(self.grades) / len(self.grades)\n",
        "\n",
        "\n",
        "# Example usage\n",
        "student1 = Student(\"Suyash\", [85, 90, 78, 92])\n",
        "print(f\"{student1.name}'s average grade: {student1.average_grade():.2f}\")  # Output: 86.25\n",
        "\n",
        "student2 = Student(\"Rahul\", [70, 80])\n",
        "print(f\"{student2.name}'s average grade: {student2.average_grade():.2f}\")  # Output: 75.00\n"
      ],
      "metadata": {
        "id": "rXIPR-DF4Cmk"
      },
      "execution_count": null,
      "outputs": []
    },
    {
      "cell_type": "code",
      "source": [
        "#Q13.Create a class Rectangle with methods set_dimensions() to set the dimensions and area() to calculate the area.\n",
        "\n",
        "class Rectangle:\n",
        "    def __init__(self):\n",
        "        self.length = 0\n",
        "        self.width = 0\n",
        "\n",
        "    # Method to set dimensions\n",
        "    def set_dimensions(self, length, width):\n",
        "        self.length = length\n",
        "        self.width = width\n",
        "\n",
        "    # Method to calculate area\n",
        "    def area(self):\n",
        "        return self.length * self.width\n",
        "\n",
        "\n",
        "# Example usage\n",
        "rect = Rectangle()\n",
        "rect.set_dimensions(5, 3)\n",
        "print(f\"Area of the rectangle: {rect.area()}\")  # Output: 15\n"
      ],
      "metadata": {
        "id": "T2V0qOAw5rOL"
      },
      "execution_count": null,
      "outputs": []
    },
    {
      "cell_type": "code",
      "source": [
        "#Q14.Create a class Employee with a method calculate_salary() that computes the salary based on hours worked and hourly rate. Create a derived class Manager that adds a bonus to the salary.\n",
        "\n",
        "# Base class\n",
        "class Employee:\n",
        "    def __init__(self, name, hours_worked, hourly_rate):\n",
        "        self.name = name\n",
        "        self.hours_worked = hours_worked\n",
        "        self.hourly_rate = hourly_rate\n",
        "\n",
        "    # Method to calculate salary\n",
        "    def calculate_salary(self):\n",
        "        return self.hours_worked * self.hourly_rate\n",
        "\n",
        "\n",
        "# Derived class\n",
        "class Manager(Employee):\n",
        "    def __init__(self, name, hours_worked, hourly_rate, bonus):\n",
        "        super().__init__(name, hours_worked, hourly_rate)\n",
        "        self.bonus = bonus\n",
        "\n",
        "    # Override calculate_salary to include bonus\n",
        "    def calculate_salary(self):\n",
        "        base_salary = super().calculate_salary()\n",
        "        return base_salary + self.bonus\n",
        "\n",
        "\n",
        "# Example usage\n",
        "emp = Employee(\"Suyash\", 40, 20)\n",
        "print(f\"{emp.name}'s salary: {emp.calculate_salary()}\")  # Output: 800\n",
        "\n",
        "mgr = Manager(\"Rahul\", 40, 25, 500)\n",
        "print(f\"{mgr.name}'s salary: {mgr.calculate_salary()}\")  # Output: 1500\n"
      ],
      "metadata": {
        "id": "gDzSbBJs6rbb"
      },
      "execution_count": null,
      "outputs": []
    },
    {
      "cell_type": "code",
      "source": [
        "#Q15.Create a class Product with attributes name, price, and quantity. Implement a method total_price() that calculates the total price of the product.\n",
        "\n",
        "class Product:\n",
        "    def __init__(self, name, price, quantity):\n",
        "        self.name = name\n",
        "        self.price = price\n",
        "        self.quantity = quantity\n",
        "\n",
        "    # Method to calculate total price\n",
        "    def total_price(self):\n",
        "        return self.price * self.quantity\n",
        "\n",
        "\n",
        "# Example usage\n",
        "product1 = Product(\"Laptop\", 1000, 3)\n",
        "print(f\"Total price of {product1.name}: {product1.total_price()}\")  # Output: 3000\n",
        "\n",
        "product2 = Product(\"Book\", 15, 10)\n",
        "print(f\"Total price of {product2.name}: {product2.total_price()}\")  # Output: 150\n"
      ],
      "metadata": {
        "id": "19_rjEjd7uG7"
      },
      "execution_count": null,
      "outputs": []
    },
    {
      "cell_type": "code",
      "source": [
        "#Q16.Create a class Animal with an abstract method sound(). Create two derived classes Cow and Sheep that implement the sound() method.\n",
        "\n",
        "from abc import ABC, abstractmethod\n",
        "\n",
        "# Abstract base class\n",
        "class Animal(ABC):\n",
        "    @abstractmethod\n",
        "    def sound(self):\n",
        "        pass\n",
        "\n",
        "# Derived class Cow\n",
        "class Cow(Animal):\n",
        "    def sound(self):\n",
        "        print(\"Cow says: Moo!\")\n",
        "\n",
        "# Derived class Sheep\n",
        "class Sheep(Animal):\n",
        "    def sound(self):\n",
        "        print(\"Sheep says: Baa!\")\n",
        "\n",
        "\n",
        "# Example usage\n",
        "cow = Cow()\n",
        "sheep = Sheep()\n",
        "\n",
        "cow.sound()    # Output: Cow says: Moo!\n",
        "sheep.sound()  # Output: Sheep says: Baa!\n"
      ],
      "metadata": {
        "id": "KgMPN5vd8fkq"
      },
      "execution_count": null,
      "outputs": []
    },
    {
      "cell_type": "code",
      "source": [
        "#Q17.Create a class Book with attributes title, author, and year_published. Add a method get_book_info() that returns a formatted string with the book's details.\n",
        "\n",
        "class Book:\n",
        "    def __init__(self, title, author, year_published):\n",
        "        self.title = title\n",
        "        self.author = author\n",
        "        self.year_published = year_published\n",
        "\n",
        "    # Method to get book information\n",
        "    def get_book_info(self):\n",
        "        return f\"'{self.title}' by {self.author}, published in {self.year_published}\"\n",
        "\n",
        "\n",
        "# Example usage\n",
        "book1 = Book(\"To Kill a Mockingbird\", \"Harper Lee\", 1960)\n",
        "book2 = Book(\"1984\", \"George Orwell\", 1949)\n",
        "\n",
        "print(book1.get_book_info())  # Output: 'To Kill a Mockingbird' by Harper Lee, published in 1960\n",
        "print(book2.get_book_info())  # Output: '1984' by George Orwell, published in 1949\n"
      ],
      "metadata": {
        "id": "FZ8A9WXR8xEL"
      },
      "execution_count": null,
      "outputs": []
    },
    {
      "cell_type": "code",
      "source": [
        "#Q18.Create a class House with attributes address and price. Create a derived class Mansion that adds an attribute number_of_rooms.\n",
        "# Base class\n",
        "class House:\n",
        "    def __init__(self, address, price):\n",
        "        self.address = address\n",
        "        self.price = price\n",
        "\n",
        "    def display_info(self):\n",
        "        print(f\"Address: {self.address}, Price: {self.price}\")\n",
        "\n",
        "\n",
        "# Derived class\n",
        "class Mansion(House):\n",
        "    def __init__(self, address, price, number_of_rooms):\n",
        "        super().__init__(address, price)\n",
        "        self.number_of_rooms = number_of_rooms\n",
        "\n",
        "    def display_info(self):\n",
        "        print(f\"Address: {self.address}, Price: {self.price}, Rooms: {self.number_of_rooms}\")\n",
        "\n",
        "\n",
        "# Example usage\n",
        "house = House(\"123 Main St\", 250000)\n",
        "mansion = Mansion(\"456 Grand Ave\", 2000000, 10)\n",
        "\n",
        "house.display_info()    # Output: Address: 123 Main St, Price: 250000\n",
        "mansion.display_info()  # Output: Address: 456 Grand Ave, Price: 2000000, Rooms: 10\n"
      ],
      "metadata": {
        "id": "4PCTYJj49GnA"
      },
      "execution_count": null,
      "outputs": []
    }
  ]
}